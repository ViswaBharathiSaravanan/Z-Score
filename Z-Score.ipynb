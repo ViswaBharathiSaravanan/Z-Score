{
 "cells": [
  {
   "cell_type": "code",
   "execution_count": 1,
   "id": "1406971e",
   "metadata": {},
   "outputs": [
    {
     "name": "stdout",
     "output_type": "stream",
     "text": [
      "Number of Elements:5\n",
      "12 76 34 99 32\n",
      "[12, 76, 34, 99, 32]\n"
     ]
    },
    {
     "data": {
      "text/plain": [
       "array([-1.20870769,  0.79536723, -0.51980693,  1.51558166, -0.58243427])"
      ]
     },
     "execution_count": 1,
     "metadata": {},
     "output_type": "execute_result"
    }
   ],
   "source": [
    "m=int(input(\"Number of Elements:\"))\n",
    "l=[]\n",
    "n=[int(i) for i in input().split()]\n",
    "print(n)\n",
    "import numpy as np\n",
    "A=np.array(n)\n",
    "import scipy.stats as stats\n",
    "stats.zscore(A)"
   ]
  },
  {
   "cell_type": "code",
   "execution_count": null,
   "id": "3823032d",
   "metadata": {},
   "outputs": [],
   "source": []
  }
 ],
 "metadata": {
  "kernelspec": {
   "display_name": "Python 3 (ipykernel)",
   "language": "python",
   "name": "python3"
  },
  "language_info": {
   "codemirror_mode": {
    "name": "ipython",
    "version": 3
   },
   "file_extension": ".py",
   "mimetype": "text/x-python",
   "name": "python",
   "nbconvert_exporter": "python",
   "pygments_lexer": "ipython3",
   "version": "3.9.7"
  }
 },
 "nbformat": 4,
 "nbformat_minor": 5
}
